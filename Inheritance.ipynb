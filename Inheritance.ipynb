{
 "cells": [
  {
   "cell_type": "code",
   "execution_count": 10,
   "id": "4fb6d255",
   "metadata": {},
   "outputs": [],
   "source": [
    "class Vehicle:\n",
    "    def general_usage(self):\n",
    "        print(\"Geenral use: transportation\")\n",
    "        \n",
    "\n",
    "class Car(Vehicle):\n",
    "    def __init__(self):\n",
    "        print(\"I'm car\")\n",
    "        self.wheels =4\n",
    "        self.has_roof = True\n",
    "        \n",
    "    def specific_usage(self):\n",
    "        print(\"specific use: commute to work, vacation with family\")\n",
    "        \n",
    "        \n",
    "class MotorCycle(Vehicle):\n",
    "    def __init__(self):\n",
    "        print(\"I'm motorcycle\")\n",
    "        self.wheels = 2\n",
    "        self.has_roof = False\n",
    "        \n",
    "    def specific_usage(self):\n",
    "        print(\"Specifi use: road trip, racing\")"
   ]
  },
  {
   "cell_type": "code",
   "execution_count": 11,
   "id": "a1dccbd8",
   "metadata": {},
   "outputs": [
    {
     "name": "stdout",
     "output_type": "stream",
     "text": [
      "I'm car\n",
      "Geenral use: transportation\n",
      "specific use: commute to work, vacation with family\n"
     ]
    }
   ],
   "source": [
    "c =Car()\n",
    "c.general_usage()\n",
    "c.specific_usage()"
   ]
  },
  {
   "cell_type": "code",
   "execution_count": 13,
   "id": "6e1fdeb4",
   "metadata": {},
   "outputs": [
    {
     "name": "stdout",
     "output_type": "stream",
     "text": [
      "I'm motorcycle\n",
      "Geenral use: transportation\n",
      "Specifi use: road trip, racing\n"
     ]
    },
    {
     "data": {
      "text/plain": [
       "2"
      ]
     },
     "execution_count": 13,
     "metadata": {},
     "output_type": "execute_result"
    }
   ],
   "source": [
    "m=MotorCycle()\n",
    "m.general_usage()\n",
    "m.specific_usage()\n",
    "m.wheels\n"
   ]
  },
  {
   "cell_type": "code",
   "execution_count": 15,
   "id": "a5c72dfd",
   "metadata": {},
   "outputs": [
    {
     "data": {
      "text/plain": [
       "False"
      ]
     },
     "execution_count": 15,
     "metadata": {},
     "output_type": "execute_result"
    }
   ],
   "source": [
    "isinstance(c,MotorCycle)"
   ]
  },
  {
   "cell_type": "code",
   "execution_count": 16,
   "id": "fd57cd01",
   "metadata": {},
   "outputs": [
    {
     "data": {
      "text/plain": [
       "True"
      ]
     },
     "execution_count": 16,
     "metadata": {},
     "output_type": "execute_result"
    }
   ],
   "source": [
    "issubclass(Car,Vehicle)"
   ]
  },
  {
   "cell_type": "code",
   "execution_count": 19,
   "id": "10e25c4c",
   "metadata": {},
   "outputs": [],
   "source": [
    "class Animal:\n",
    "    def __init__(self):\n",
    "        print(\"I am an animal\")\n",
    "        \n",
    "    def habitat(self):\n",
    "        print(\"I live in an habitat\")\n",
    "        \n",
    "class Dog(Animal):\n",
    "    def __init__(self):\n",
    "        super().__init__()\n",
    "        print(\"I am a dog\")\n",
    "        \n",
    "    def habitat(self):\n",
    "        print(\"I live in a dog house\")"
   ]
  },
  {
   "cell_type": "code",
   "execution_count": 21,
   "id": "0133e328",
   "metadata": {},
   "outputs": [
    {
     "name": "stdout",
     "output_type": "stream",
     "text": [
      "I am an animal\n",
      "I am a dog\n",
      "I live in a dog house\n"
     ]
    }
   ],
   "source": [
    "d = Dog()\n",
    "d.habitat()"
   ]
  },
  {
   "cell_type": "code",
   "execution_count": null,
   "id": "d7ce8f7b",
   "metadata": {},
   "outputs": [],
   "source": []
  },
  {
   "cell_type": "code",
   "execution_count": null,
   "id": "fa2bc399",
   "metadata": {},
   "outputs": [],
   "source": []
  },
  {
   "cell_type": "code",
   "execution_count": null,
   "id": "99987a6e",
   "metadata": {},
   "outputs": [],
   "source": []
  },
  {
   "cell_type": "code",
   "execution_count": null,
   "id": "4aebc650",
   "metadata": {},
   "outputs": [],
   "source": []
  }
 ],
 "metadata": {
  "kernelspec": {
   "display_name": "Python 3",
   "language": "python",
   "name": "python3"
  },
  "language_info": {
   "codemirror_mode": {
    "name": "ipython",
    "version": 3
   },
   "file_extension": ".py",
   "mimetype": "text/x-python",
   "name": "python",
   "nbconvert_exporter": "python",
   "pygments_lexer": "ipython3",
   "version": "3.8.8"
  }
 },
 "nbformat": 4,
 "nbformat_minor": 5
}

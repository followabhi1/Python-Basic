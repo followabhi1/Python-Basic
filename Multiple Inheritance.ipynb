{
 "cells": [
  {
   "cell_type": "code",
   "execution_count": 1,
   "id": "ba2f2927",
   "metadata": {},
   "outputs": [],
   "source": [
    "class Father:\n",
    "    def gardening(self):\n",
    "        print(\"I enjoy gardening\")\n",
    "        \n",
    "class Mother:\n",
    "    def cooking(self):\n",
    "        print(\"I enjoy cooking\")\n",
    "        \n",
    "class Child(Father, Mother):\n",
    "    def sports(self):\n",
    "        print(\"I enjoy sports\")"
   ]
  },
  {
   "cell_type": "code",
   "execution_count": 4,
   "id": "3f6d57b4",
   "metadata": {},
   "outputs": [
    {
     "name": "stdout",
     "output_type": "stream",
     "text": [
      "I enjoy gardening\n",
      "I enjoy cooking\n",
      "I enjoy sports\n"
     ]
    }
   ],
   "source": [
    "c = Child()\n",
    "c.gardening()\n",
    "c.cooking()\n",
    "c.sports()"
   ]
  },
  {
   "cell_type": "code",
   "execution_count": 13,
   "id": "1a3d8434",
   "metadata": {},
   "outputs": [],
   "source": [
    "class Father:\n",
    "    def skills(self):\n",
    "        print(\"Programming, gardening\")\n",
    "        \n",
    "class Mother:\n",
    "    def skills(self):\n",
    "        print(\"chatting, cooking\")\n",
    "        \n",
    "class Child(Father, Mother):\n",
    "    def skills(self):\n",
    "        Father.skills(self)\n",
    "        Mother.skills(self)\n",
    "        print(\"sports\")"
   ]
  },
  {
   "cell_type": "code",
   "execution_count": 14,
   "id": "79bc8232",
   "metadata": {},
   "outputs": [
    {
     "name": "stdout",
     "output_type": "stream",
     "text": [
      "Programming, gardening\n",
      "chatting, cooking\n",
      "sports\n"
     ]
    }
   ],
   "source": [
    "c=Child()\n",
    "c.skills()"
   ]
  }
 ],
 "metadata": {
  "kernelspec": {
   "display_name": "Python 3",
   "language": "python",
   "name": "python3"
  },
  "language_info": {
   "codemirror_mode": {
    "name": "ipython",
    "version": 3
   },
   "file_extension": ".py",
   "mimetype": "text/x-python",
   "name": "python",
   "nbconvert_exporter": "python",
   "pygments_lexer": "ipython3",
   "version": "3.8.8"
  }
 },
 "nbformat": 4,
 "nbformat_minor": 5
}

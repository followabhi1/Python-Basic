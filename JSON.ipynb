{
 "cells": [
  {
   "cell_type": "code",
   "execution_count": 1,
   "id": "b77b9216",
   "metadata": {},
   "outputs": [],
   "source": [
    "book = {}\n",
    "book['tom'] = {\n",
    "    'name': 'tom',\n",
    "    'address' : '1 efg',\n",
    "    'phone' : '123456'\n",
    "}\n",
    "book['bob'] = {\n",
    "    'name': 'bob',\n",
    "    'address' : '2 efg',\n",
    "    'phone' : '987654'\n",
    "}\n"
   ]
  },
  {
   "cell_type": "code",
   "execution_count": 4,
   "id": "b17ab62e",
   "metadata": {},
   "outputs": [
    {
     "name": "stdout",
     "output_type": "stream",
     "text": [
      "{\"tom\": {\"name\": \"tom\", \"address\": \"1 efg\", \"phone\": \"123456\"}, \"bob\": {\"name\": \"bob\", \"address\": \"2 efg\", \"phone\": \"987654\"}}\n"
     ]
    }
   ],
   "source": [
    "import json\n",
    "s= json.dumps(book)\n",
    "print(s)\n",
    "with open(r\"C:\\Users\\abhishek.bhadouriya\\Desktop\\Practice\\book.txt\",\"w\") as f:\n",
    "    f.write(s)"
   ]
  },
  {
   "cell_type": "code",
   "execution_count": 10,
   "id": "d08f5063",
   "metadata": {},
   "outputs": [
    {
     "data": {
      "text/plain": [
       "'{\"tom\": {\"name\": \"tom\", \"address\": \"1 efg\", \"phone\": \"123456\"}, \"bob\": {\"name\": \"bob\", \"address\": \"2 efg\", \"phone\": \"987654\"}}'"
      ]
     },
     "execution_count": 10,
     "metadata": {},
     "output_type": "execute_result"
    }
   ],
   "source": [
    "f=open(r\"C:\\Users\\abhishek.bhadouriya\\Desktop\\Practice\\book.txt\",\"r\")\n",
    "content=f.read()\n",
    "content"
   ]
  },
  {
   "cell_type": "code",
   "execution_count": 12,
   "id": "22257dae",
   "metadata": {},
   "outputs": [
    {
     "data": {
      "text/plain": [
       "{'tom': {'name': 'tom', 'address': '1 efg', 'phone': '123456'},\n",
       " 'bob': {'name': 'bob', 'address': '2 efg', 'phone': '987654'}}"
      ]
     },
     "execution_count": 12,
     "metadata": {},
     "output_type": "execute_result"
    }
   ],
   "source": [
    "books=json.loads(content)\n",
    "books"
   ]
  },
  {
   "cell_type": "code",
   "execution_count": 13,
   "id": "e2b2d6ef",
   "metadata": {},
   "outputs": [
    {
     "data": {
      "text/plain": [
       "{'name': 'bob', 'address': '2 efg', 'phone': '987654'}"
      ]
     },
     "execution_count": 13,
     "metadata": {},
     "output_type": "execute_result"
    }
   ],
   "source": [
    "books['bob']"
   ]
  },
  {
   "cell_type": "code",
   "execution_count": 14,
   "id": "939e8f4a",
   "metadata": {},
   "outputs": [
    {
     "data": {
      "text/plain": [
       "'987654'"
      ]
     },
     "execution_count": 14,
     "metadata": {},
     "output_type": "execute_result"
    }
   ],
   "source": [
    "books['bob']['phone']"
   ]
  },
  {
   "cell_type": "code",
   "execution_count": 15,
   "id": "23e98eb7",
   "metadata": {},
   "outputs": [
    {
     "name": "stdout",
     "output_type": "stream",
     "text": [
      "{'name': 'tom', 'address': '1 efg', 'phone': '123456'}\n",
      "{'name': 'bob', 'address': '2 efg', 'phone': '987654'}\n"
     ]
    }
   ],
   "source": [
    "for person in book:\n",
    "    print(book[person])"
   ]
  }
 ],
 "metadata": {
  "kernelspec": {
   "display_name": "Python 3",
   "language": "python",
   "name": "python3"
  },
  "language_info": {
   "codemirror_mode": {
    "name": "ipython",
    "version": 3
   },
   "file_extension": ".py",
   "mimetype": "text/x-python",
   "name": "python",
   "nbconvert_exporter": "python",
   "pygments_lexer": "ipython3",
   "version": "3.8.8"
  }
 },
 "nbformat": 4,
 "nbformat_minor": 5
}

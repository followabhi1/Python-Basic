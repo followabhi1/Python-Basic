{
 "cells": [
  {
   "cell_type": "markdown",
   "id": "77a8fa70",
   "metadata": {},
   "source": [
    "Write/overwite in a file --> use \"w\""
   ]
  },
  {
   "cell_type": "code",
   "execution_count": 3,
   "id": "90c81ca4",
   "metadata": {},
   "outputs": [],
   "source": [
    "f=open(r\"C:\\Users\\abhishek.bhadouriya\\Desktop\\Practice\\funny.txt\",\"w\")\n",
    "f.write(\"I love Python\")\n",
    "f.close()"
   ]
  },
  {
   "cell_type": "markdown",
   "id": "45ba24c0",
   "metadata": {},
   "source": [
    "append in a file --> use \"a\""
   ]
  },
  {
   "cell_type": "code",
   "execution_count": null,
   "id": "a7c583a1",
   "metadata": {},
   "outputs": [],
   "source": [
    "f=open(r\"C:\\Users\\abhishek.bhadouriya\\Desktop\\Practice\\funny.txt\",\"a\")\n",
    "f.write(\"I love Jscript\")\n",
    "f.close()"
   ]
  },
  {
   "cell_type": "markdown",
   "id": "4eca62e1",
   "metadata": {},
   "source": [
    "append in new a file --> use \"a\" with \"\\n\" in starting of sentence"
   ]
  },
  {
   "cell_type": "code",
   "execution_count": 5,
   "id": "a4cc7d94",
   "metadata": {},
   "outputs": [],
   "source": [
    "f=open(r\"C:\\Users\\abhishek.bhadouriya\\Desktop\\Practice\\funny.txt\",\"a\")\n",
    "f.write(\"\\nI love PHP\")\n",
    "f.close()"
   ]
  },
  {
   "cell_type": "code",
   "execution_count": null,
   "id": "52c3f11c",
   "metadata": {},
   "outputs": [],
   "source": [
    "f=open(r\"C:\\Users\\abhishek.bhadouriya\\Desktop\\Practice\\funny.txt\",\"a\")\n",
    "f.write(\"\\nI love PHP\")\n",
    "f.close()"
   ]
  },
  {
   "cell_type": "markdown",
   "id": "e0d453b4",
   "metadata": {},
   "source": [
    "Total word in a file"
   ]
  },
  {
   "cell_type": "code",
   "execution_count": 9,
   "id": "35c78833",
   "metadata": {},
   "outputs": [
    {
     "name": "stdout",
     "output_type": "stream",
     "text": [
      "5\n",
      "3\n"
     ]
    }
   ],
   "source": [
    "f=open(r\"C:\\Users\\abhishek.bhadouriya\\Desktop\\Practice\\funny.txt\",\"r\")\n",
    "for line in f:\n",
    "    tokens=line.split(' ')\n",
    "    print(len(tokens))\n",
    "f.close()"
   ]
  },
  {
   "cell_type": "code",
   "execution_count": 14,
   "id": "b7c254af",
   "metadata": {},
   "outputs": [],
   "source": [
    "f=open(r\"C:\\Users\\abhishek.bhadouriya\\Desktop\\Practice\\funny.txt\",\"r\")\n",
    "f_out=open(r\"C:\\Users\\abhishek.bhadouriya\\Desktop\\Practice\\funny_wordcount.txt\",\"w\")\n",
    "for line in f:\n",
    "    tokens=line.split(' ')\n",
    "    f_out.write( \"wordcount: \" +str(len(tokens))+\" \" +line)\n",
    "f.close()\n",
    "f_out.close()"
   ]
  },
  {
   "cell_type": "markdown",
   "id": "d0ed4fb6",
   "metadata": {},
   "source": [
    "Implicitly Close the file"
   ]
  },
  {
   "cell_type": "code",
   "execution_count": 18,
   "id": "51e6b5dc",
   "metadata": {},
   "outputs": [
    {
     "name": "stdout",
     "output_type": "stream",
     "text": [
      "I love PythonI love Jscript\n",
      "I love PHP\n",
      "Is file is closed implicitly by using with statement? True\n"
     ]
    }
   ],
   "source": [
    "with open (r\"C:\\Users\\abhishek.bhadouriya\\Desktop\\Practice\\funny.txt\",\"r\") as f:\n",
    "    print(f.read())\n",
    "\n",
    "print(\"Is file is closed implicitly by using with statement? \"+ str(f.closed))"
   ]
  },
  {
   "cell_type": "code",
   "execution_count": null,
   "id": "9b0ab079",
   "metadata": {},
   "outputs": [],
   "source": []
  },
  {
   "cell_type": "code",
   "execution_count": null,
   "id": "0e3b8ff3",
   "metadata": {},
   "outputs": [],
   "source": []
  },
  {
   "cell_type": "code",
   "execution_count": null,
   "id": "7e35e9c5",
   "metadata": {},
   "outputs": [],
   "source": []
  }
 ],
 "metadata": {
  "kernelspec": {
   "display_name": "Python 3",
   "language": "python",
   "name": "python3"
  },
  "language_info": {
   "codemirror_mode": {
    "name": "ipython",
    "version": 3
   },
   "file_extension": ".py",
   "mimetype": "text/x-python",
   "name": "python",
   "nbconvert_exporter": "python",
   "pygments_lexer": "ipython3",
   "version": "3.8.8"
  }
 },
 "nbformat": 4,
 "nbformat_minor": 5
}
